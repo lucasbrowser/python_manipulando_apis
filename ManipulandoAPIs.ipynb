{
  "nbformat": 4,
  "nbformat_minor": 0,
  "metadata": {
    "colab": {
      "name": "ManipulandoAPIs.ipynb",
      "provenance": [],
      "collapsed_sections": [],
      "authorship_tag": "ABX9TyPzyTB5Pem4keeVNWWL6uSV"
    },
    "kernelspec": {
      "name": "python3",
      "display_name": "Python 3"
    }
  },
  "cells": [
    {
      "cell_type": "markdown",
      "metadata": {
        "id": "EWVDM5SxjEvP",
        "colab_type": "text"
      },
      "source": [
        "#Aula 29 - Manipulando API's - Parte II"
      ]
    },
    {
      "cell_type": "markdown",
      "metadata": {
        "id": "zgCD1c1l8d5F",
        "colab_type": "text"
      },
      "source": [
        "Antes de iniciarmos em nosso tema de hoje, vamos brincar um pouco com a API do Google para completar uma frase de sua preferência."
      ]
    },
    {
      "cell_type": "code",
      "metadata": {
        "id": "ST2tusUF8md9",
        "colab_type": "code",
        "colab": {}
      },
      "source": [
        "from requests import get\n",
        "\n",
        "frase = input('Digite uma frase: ')\n",
        "url = f\"http://suggestqueries.google.com/complete/search?client=firefox&q={frase}\"\n",
        "resp = get(url).json()\n",
        "resp"
      ],
      "execution_count": null,
      "outputs": []
    },
    {
      "cell_type": "markdown",
      "metadata": {
        "id": "kADv5QBpjJNY",
        "colab_type": "text"
      },
      "source": [
        "Nesta aula, trabalharemos com a manipulação de dados da API gratuita da câmara dos deputados.\n",
        "\n",
        "Endereço e documentação da API - https://dadosabertos.camara.leg.br/swagger/api.html%5D#api"
      ]
    },
    {
      "cell_type": "markdown",
      "metadata": {
        "id": "my4CDX2GjZSH",
        "colab_type": "text"
      },
      "source": [
        "Em nosso primeiro exemplo, vamos inicialmente conectar e mostrar os dados."
      ]
    },
    {
      "cell_type": "code",
      "metadata": {
        "id": "sJQiHCK3jo2G",
        "colab_type": "code",
        "colab": {}
      },
      "source": [
        "import requests\n",
        "requisicao = requests.get('https://dadosabertos.camara.leg.br/api/v2/deputados')\n",
        "resposta = requisicao.json()\n",
        "print(resposta)"
      ],
      "execution_count": null,
      "outputs": []
    },
    {
      "cell_type": "markdown",
      "metadata": {
        "id": "5lLKmkZAlUFg",
        "colab_type": "text"
      },
      "source": [
        "Podemos melhorar um pouco a visualização dos dados com a estrutura for:"
      ]
    },
    {
      "cell_type": "code",
      "metadata": {
        "id": "m_oYsByzlaGy",
        "colab_type": "code",
        "colab": {}
      },
      "source": [
        "for k in resposta['dados']:\n",
        "  print(k)"
      ],
      "execution_count": null,
      "outputs": []
    },
    {
      "cell_type": "markdown",
      "metadata": {
        "id": "MC0c4yYxmJWA",
        "colab_type": "text"
      },
      "source": [
        "Agora vamos visualizar mais claramente o nome do deputado, o seu número de identificação e o seu Estado."
      ]
    },
    {
      "cell_type": "code",
      "metadata": {
        "id": "LaZ835MRmXzf",
        "colab_type": "code",
        "colab": {}
      },
      "source": [
        "for r in resposta['dados']:\n",
        "  print (r['nome'], r['id'], r['siglaUf'])"
      ],
      "execution_count": null,
      "outputs": []
    },
    {
      "cell_type": "code",
      "metadata": {
        "id": "y9f47bXqeR_Z",
        "colab_type": "code",
        "colab": {}
      },
      "source": [
        "#Listagem dos Deputados do Estado de Mato Grosso\n",
        "for r in resposta['dados']:\n",
        "  if r['siglaUf']=='MT':\n",
        "    print (r['nome'], r['id'], r['siglaUf'])"
      ],
      "execution_count": null,
      "outputs": []
    },
    {
      "cell_type": "markdown",
      "metadata": {
        "id": "iTnc83Ri__ip",
        "colab_type": "text"
      },
      "source": [
        "Nós podemos manipular arquivos de uma API, em nosso exemplo, vamos aprender a fazer o download de fotos inclusas nos dados dos deputados.\n",
        "\n"
      ]
    },
    {
      "cell_type": "code",
      "metadata": {
        "id": "7-8LAGRCAG7A",
        "colab_type": "code",
        "colab": {}
      },
      "source": [
        "import requests\n",
        "url = 'https://dadosabertos.camara.leg.br/api/v2/deputados'\n",
        "requisicao = requests.get(url).json()\n",
        "for x in requisicao['dados']:\n",
        "  if x['siglaUf'] == 'MT':\n",
        "    nome = x['nome'].lower()\n",
        "    print (f'Gravando: {nome}')\n",
        "    f = open(nome + '.jpg', 'wb')\n",
        "    foto = requests.get(x['urlFoto']).content\n",
        "    f.write(foto)\n",
        "    f.close()"
      ],
      "execution_count": null,
      "outputs": []
    },
    {
      "cell_type": "markdown",
      "metadata": {
        "id": "sbhH7wu4rs8B",
        "colab_type": "text"
      },
      "source": [
        "Vamos analisar o valor total gasto de um deputado federal, de acordo com a sua quota parlamentar, para isso, necessitaremos pegar o número identificador do deputado para efetuar a sua análise."
      ]
    },
    {
      "cell_type": "code",
      "metadata": {
        "id": "NzffYFhCsByO",
        "colab_type": "code",
        "colab": {}
      },
      "source": [
        "id = '141401'\n",
        "requisicao = requests.get(f'https://dadosabertos.camara.leg.br/api/v2/deputados/{id}/despesas?ordem=ASC&ordenarPor=ano')\n",
        "resposta = requisicao.json()\n",
        "soma = 0\n",
        "for pg in range(1, 100):\n",
        "  url = f'https://dadosabertos.camara.leg.br/api/v2/deputados/{id}/despesas?ordem=ASC&ordenarPor=ano&pagina={pg}&itens=100'\n",
        "  r = requests.get(url).json()\n",
        "  for gasto in r['dados']:\n",
        "    soma = soma + float(gasto['valorLiquido'])#acumulador\n",
        "\n",
        "print (f'R$ {soma:.2f}')"
      ],
      "execution_count": null,
      "outputs": []
    },
    {
      "cell_type": "markdown",
      "metadata": {
        "id": "TlOaaSPGwsif",
        "colab_type": "text"
      },
      "source": [
        "Agora vamos detalhar os gastos dos deputados federais, e saber onde foram efetuados os gastos, com o nome do fornecedor, o cnpj e o total gasto por fornecedor."
      ]
    },
    {
      "cell_type": "code",
      "metadata": {
        "id": "APscwNxrw-2x",
        "colab_type": "code",
        "colab": {}
      },
      "source": [
        "id = '160976'\n",
        "soma = 0\n",
        "fornecedores = {}\n",
        "cnpjCpfFornecedores = {}\n",
        "for pag in range(1, 100):\n",
        "  url = f'https://dadosabertos.camara.leg.br/api/v2/deputados/{id}/despesas?ordem=ASC&ordenarPor=ano&pagina={pag}&itens=100'\n",
        "  r = requests.get(url).json()\n",
        "  for gasto in r['dados']:\n",
        "    valor = float(gasto['valorLiquido'])\n",
        "    soma = soma + valor\n",
        "    nome = gasto['nomeFornecedor']\n",
        "    cnpjCpf = gasto['cnpjCpfFornecedor']\n",
        "    if cnpjCpf not in cnpjCpfFornecedores:\n",
        "      cnpjCpfFornecedores[cnpjCpf] = valor\n",
        "      fornecedores[cnpjCpf] = nome\n",
        "    else:\n",
        "      cnpjCpfFornecedores[cnpjCpf] = cnpjCpfFornecedores[cnpjCpf] + valor\n",
        "    \n",
        "print (f'Total retornado API Câmara: R$ {soma:.2f}')\n",
        "\n",
        "def chave(f): \n",
        "  return f[1]\n",
        "\n",
        "maiores = sorted(cnpjCpfFornecedores.items(), key=chave, reverse=True)\n",
        "for cnpjcpf, valor in maiores[:50]:\n",
        "    print (cnpjcpf, fornecedores[cnpjcpf], f'R$ {valor:.2f}')"
      ],
      "execution_count": null,
      "outputs": []
    },
    {
      "cell_type": "markdown",
      "metadata": {
        "id": "4LDV5V2MnPK9",
        "colab_type": "text"
      },
      "source": [
        "#Exercícios - Aula 29/06"
      ]
    },
    {
      "cell_type": "markdown",
      "metadata": {
        "id": "9PlwPIiLnW-p",
        "colab_type": "text"
      },
      "source": [
        "Exercício 01 - Faça a listagem de todos os deputados, filtrando apenas o nome, o partido e o Estado."
      ]
    },
    {
      "cell_type": "markdown",
      "metadata": {
        "id": "q7xeSrPZnq94",
        "colab_type": "text"
      },
      "source": [
        "Exercício 02 - Faça a listagem de todos os deputados a partir do Estado informado pelo usuário, filtrando apenas o nome, número de identificação, partido e sigla do Estado."
      ]
    },
    {
      "cell_type": "markdown",
      "metadata": {
        "id": "8Arr5LDSppvt",
        "colab_type": "text"
      },
      "source": [
        "Exercício 03 - Faça a listagem de todos os deputados a partir do Partido informado pelo usuário, filtrando apenas o nome e o Estado."
      ]
    },
    {
      "cell_type": "markdown",
      "metadata": {
        "id": "ApnkiGswuJA1",
        "colab_type": "text"
      },
      "source": [
        "Exercício 04 - Faça a pesquisa do valor total gasto por deputado, através do código de identificação informado pelo usuário."
      ]
    },
    {
      "cell_type": "markdown",
      "metadata": {
        "id": "DNt4z0642fKB",
        "colab_type": "text"
      },
      "source": [
        "Exercício 05 - Faça a pesquisa do valor total gasto por deputado detalhado por CNPJ, Nome do Fornecedor e Valor Gasto, através do código de identificação informado pelo usuário no input."
      ]
    }
  ]
}